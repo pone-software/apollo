{
 "cells": [
  {
   "cell_type": "markdown",
   "source": [
    "# Data Pipeline Overview\n",
    "\n",
    "This notebook provides an overview of the data pipeline stretched out by the master thesis.\n",
    "\n",
    "## 0. Imports\n"
   ],
   "metadata": {
    "collapsed": false
   }
  },
  {
   "cell_type": "code",
   "execution_count": 1,
   "outputs": [],
   "source": [
    "import sys\n",
    "\n",
    "sys.path.append(\"../../apollo\")\n",
    "sys.path.append(\"../../olympus\")\n",
    "sys.path.append(\"../../hyperion\")"
   ],
   "metadata": {
    "collapsed": false
   }
  },
  {
   "cell_type": "code",
   "execution_count": 2,
   "outputs": [
    {
     "name": "stderr",
     "output_type": "stream",
     "text": [
      "2022-10-25 17:33:58.833274: W tensorflow/stream_executor/platform/default/dso_loader.cc:64] Could not load dynamic library 'libcudart.so.11.0'; dlerror: libcudart.so.11.0: cannot open shared object file: No such file or directory\n",
      "/home/janik/projects/master/env/lib/python3.8/site-packages/haiku/_src/data_structures.py:37: FutureWarning: jax.tree_structure is deprecated, and will be removed in a future release. Use jax.tree_util.tree_structure instead.\n",
      "  PyTreeDef = type(jax.tree_structure(None))\n",
      "WARNING:absl:No GPU/TPU found, falling back to CPU. (Set TF_CPP_MIN_LOG_LEVEL=0 and rerun for more info.)\n",
      "/home/janik/projects/master/env/lib/python3.8/site-packages/jax/_src/api_util.py:222: SyntaxWarning: Jitted function has invalid argnames {'interactions'} in static_argnames. Function does not take these args.This warning will be replaced by an error after 2022-08-20 at the earliest.\n",
      "  warnings.warn(f\"Jitted function has invalid argnames {invalid_argnames} \"\n"
     ]
    }
   ],
   "source": [
    "import json\n",
    "from jax import numpy as jnp\n",
    "import numpy as np\n",
    "import matplotlib.pyplot as plt\n",
    "\n",
    "from hyperion.medium import medium_collections\n",
    "from hyperion.constants import Constants\n",
    "from olympus.event_generation.detector import (\n",
    "    make_triang,\n",
    ")\n",
    "\n",
    "from olympus.event_generation.photon_propagation.norm_flow_photons import (\n",
    "    make_generate_norm_flow_photons\n",
    ")\n",
    "from olympus.event_generation.generators import GeneratorCollection, GeneratorFactory\n",
    "from olympus.event_generation.data import EventCollection\n",
    "from apollo.dataset.datasets import SingleHistogramDataset\n",
    "\n"
   ],
   "metadata": {
    "collapsed": false
   }
  },
  {
   "cell_type": "code",
   "execution_count": 3,
   "outputs": [],
   "source": [
    "%load_ext autoreload\n",
    "%autoreload 2"
   ],
   "metadata": {
    "collapsed": false
   }
  },
  {
   "cell_type": "markdown",
   "source": [
    "## 1. Events\n",
    "\n",
    "### 1.1 Event Generation\n",
    "\n",
    "Events can be generated using a special form of Generator Factory. First we have to generate our detector and set up the generation pipeline\n",
    "\n",
    "#### Detector and Photon Generator Setup"
   ],
   "metadata": {
    "collapsed": false
   }
  },
  {
   "cell_type": "code",
   "execution_count": 4,
   "outputs": [
    {
     "name": "stderr",
     "output_type": "stream",
     "text": [
      "/home/janik/projects/master/env/lib/python3.8/site-packages/haiku/_src/data_structures.py:206: FutureWarning: jax.tree_flatten is deprecated, and will be removed in a future release. Use jax.tree_util.tree_flatten instead.\n",
      "  leaves, structure = jax.tree_flatten(mapping)\n"
     ]
    }
   ],
   "source": [
    "path_to_config = \"../../hyperion/data/pone_config_optimistic.json\"\n",
    "config = json.load(open(path_to_config))[\"photon_propagation\"]\n",
    "ref_ix_f, sca_a_f, sca_l_f, something_else = medium_collections[config[\"medium\"]]\n",
    "\n",
    "def c_medium_f(wl):\n",
    "    \"\"\"Speed of light in medium for wl (nm).\"\"\"\n",
    "    return Constants.BaseConstants.c_vac / ref_ix_f(wl)\n",
    "\n",
    "rng = np.random.RandomState(31338)\n",
    "oms_per_line = 20\n",
    "dist_z = 50  # m\n",
    "dark_noise_rate = 16 * 1e-5  # 1/ns\n",
    "side_len = 100  # m\n",
    "pmts_per_module = 16\n",
    "pmt_cath_area_r = 75e-3 / 2  # m\n",
    "module_radius = 0.21  # m\n",
    "\n",
    "# Calculate the relative area covered by PMTs\n",
    "efficiency = (\n",
    "        pmts_per_module * pmt_cath_area_r ** 2 * np.pi / (4 * np.pi * module_radius ** 2)\n",
    ")\n",
    "det = make_triang(\n",
    "    side_len, oms_per_line, dist_z, dark_noise_rate, rng, efficiency=efficiency\n",
    ")\n",
    "module_positions = jnp.asarray(det.module_coords)\n",
    "\n",
    "gen_ph = make_generate_norm_flow_photons(\n",
    "    \"../../hyperion/data/photon_arrival_time_nflow_params.pickle\",\n",
    "    \"../../hyperion/data/photon_arrival_time_counts_params.pickle\",\n",
    "    c_medium=c_medium_f(700) / 1e9,\n",
    ")"
   ],
   "metadata": {
    "collapsed": false
   }
  },
  {
   "cell_type": "markdown",
   "source": [
    "Let's have a look at our detector"
   ],
   "metadata": {
    "collapsed": false
   }
  },
  {
   "cell_type": "code",
   "execution_count": 5,
   "outputs": [
    {
     "data": {
      "text/plain": "Text(0, 0.5, 'y [m]')"
     },
     "execution_count": 5,
     "metadata": {},
     "output_type": "execute_result"
    },
    {
     "data": {
      "text/plain": "<Figure size 432x288 with 1 Axes>",
      "image/png": "[encoded data removed]"
     },
     "metadata": {
      "needs_background": "light"
     },
     "output_type": "display_data"
    }
   ],
   "source": [
    "plt.scatter(module_positions[:, 0], module_positions[:, 1])\n",
    "plt.xlabel(\"x [m]\")\n",
    "plt.ylabel(\"y [m]\")"
   ],
   "metadata": {
    "collapsed": false
   }
  },
  {
   "cell_type": "markdown",
   "source": [
    "#### Definition of Generators"
   ],
   "metadata": {
    "collapsed": false
   }
  },
  {
   "cell_type": "code",
   "execution_count": 6,
   "outputs": [
    {
     "name": "stdout",
     "output_type": "stream",
     "text": [
      "[2022-10-25 17:34:13.070] [TableCreation] [warning] Tables are not available and need to be created. They will be written to '/tmp'. This can take some minutes.\n",
      "[2022-10-25 17:34:56.442] [proposal.integral] [warning] Precision 1e-06 has not been reached after 12 steps the value is 7.13000675731052e-08!\n",
      "Using now qags! value = 7.103549312051156e-08, abserr = 4.547238658656801e-14, neval = 399, ier = 5\n"
     ]
    }
   ],
   "source": [
    "\n",
    "\n",
    "generator_factory = GeneratorFactory(det, gen_ph)\n",
    "\n",
    "cascades_generator = generator_factory.create(\n",
    "    \"cascade\", particle_id=11, log_minimal_energy=2, log_maximal_energy=5.5, rate=0.05\n",
    ")\n",
    "\n",
    "cascades_generator2 = generator_factory.create(\n",
    "    \"cascade\", particle_id=11, log_minimal_energy=4, log_maximal_energy=5.5, rate=0.01\n",
    ")\n",
    "\n",
    "noise_generator = generator_factory.create(\"noise\")\n",
    "\n",
    "track_generator = generator_factory.create(\n",
    "    'track',\n",
    "    log_minimal_energy=2,\n",
    "    log_maximal_energy=5.5,\n",
    "    rate=0.02\n",
    ")\n",
    "\n",
    "generator_collection = GeneratorCollection(detector=det)\n",
    "\n",
    "#generator_collection.add_generator(track_generator)\n",
    "generator_collection.add_generator(cascades_generator)\n",
    "generator_collection.add_generator(cascades_generator2)\n",
    "generator_collection.add_generator(noise_generator)"
   ],
   "metadata": {
    "collapsed": false
   }
  },
  {
   "cell_type": "markdown",
   "source": [
    "This was easy. Let's generate events"
   ],
   "metadata": {
    "collapsed": false
   }
  },
  {
   "cell_type": "code",
   "execution_count": 7,
   "outputs": [
    {
     "data": {
      "text/plain": "  0%|          | 0/21 [00:00<?, ?it/s]",
      "application/vnd.jupyter.widget-view+json": {
       "version_major": 2,
       "version_minor": 0,
       "model_id": "41995b57648546f7b1debb4b2cec9b98"
      }
     },
     "metadata": {},
     "output_type": "display_data"
    },
    {
     "name": "stderr",
     "output_type": "stream",
     "text": [
      "/home/janik/projects/master/env/lib/python3.8/site-packages/haiku/_src/data_structures.py:206: FutureWarning: jax.tree_flatten is deprecated, and will be removed in a future release. Use jax.tree_util.tree_flatten instead.\n",
      "  leaves, structure = jax.tree_flatten(mapping)\n",
      "/home/janik/projects/master/env/lib/python3.8/site-packages/haiku/_src/data_structures.py:206: FutureWarning: jax.tree_flatten is deprecated, and will be removed in a future release. Use jax.tree_util.tree_flatten instead.\n",
      "  leaves, structure = jax.tree_flatten(mapping)\n",
      "/home/janik/projects/master/env/lib/python3.8/site-packages/haiku/_src/data_structures.py:206: FutureWarning: jax.tree_flatten is deprecated, and will be removed in a future release. Use jax.tree_util.tree_flatten instead.\n",
      "  leaves, structure = jax.tree_flatten(mapping)\n",
      "/home/janik/projects/master/env/lib/python3.8/site-packages/haiku/_src/data_structures.py:206: FutureWarning: jax.tree_flatten is deprecated, and will be removed in a future release. Use jax.tree_util.tree_flatten instead.\n",
      "  leaves, structure = jax.tree_flatten(mapping)\n"
     ]
    },
    {
     "data": {
      "text/plain": "  0%|          | 0/5 [00:00<?, ?it/s]",
      "application/vnd.jupyter.widget-view+json": {
       "version_major": 2,
       "version_minor": 0,
       "model_id": "a7f0b3e26f164d4badc5fe11423527a9"
      }
     },
     "metadata": {},
     "output_type": "display_data"
    },
    {
     "data": {
      "text/plain": "      type         energy  time      pos_x      pos_y       pos_z     dir_x  \\\n0  cascade    4052.118934  22.0 -89.499186  -4.978722  396.580931  0.663921   \n1  cascade   22487.614697  23.0  75.708001  48.080039 -215.912026  0.130084   \n2  cascade  125358.847332  72.0 -74.920384  64.108269  120.478650  0.552926   \n3  cascade    4908.194818  82.0 -81.962572  20.986900 -245.509543  0.566605   \n4  cascade    2805.562549  84.0   2.948812  87.812131  421.713926  0.679440   \n\n      dir_y     dir_z  \n0 -0.706861 -0.244042  \n1 -0.138497  0.981782  \n2 -0.588687  0.589678  \n3 -0.603250 -0.561292  \n4 -0.723383  0.122794  ",
      "text/html": "<div>\n<style scoped>\n    .dataframe tbody tr th:only-of-type {\n        vertical-align: middle;\n    }\n\n    .dataframe tbody tr th {\n        vertical-align: top;\n    }\n\n    .dataframe thead th {\n        text-align: right;\n    }\n</style>\n<table border=\"1\" class=\"dataframe\">\n  <thead>\n    <tr style=\"text-align: right;\">\n      <th></th>\n      <th>type</th>\n      <th>energy</th>\n      <th>time</th>\n      <th>pos_x</th>\n      <th>pos_y</th>\n      <th>pos_z</th>\n      <th>dir_x</th>\n      <th>dir_y</th>\n      <th>dir_z</th>\n    </tr>\n  </thead>\n  <tbody>\n    <tr>\n      <th>0</th>\n      <td>cascade</td>\n      <td>4052.118934</td>\n      <td>22.0</td>\n      <td>-89.499186</td>\n      <td>-4.978722</td>\n      <td>396.580931</td>\n      <td>0.663921</td>\n      <td>-0.706861</td>\n      <td>-0.244042</td>\n    </tr>\n    <tr>\n      <th>1</th>\n      <td>cascade</td>\n      <td>22487.614697</td>\n      <td>23.0</td>\n      <td>75.708001</td>\n      <td>48.080039</td>\n      <td>-215.912026</td>\n      <td>0.130084</td>\n      <td>-0.138497</td>\n      <td>0.981782</td>\n    </tr>\n    <tr>\n      <th>2</th>\n      <td>cascade</td>\n      <td>125358.847332</td>\n      <td>72.0</td>\n      <td>-74.920384</td>\n      <td>64.108269</td>\n      <td>120.478650</td>\n      <td>0.552926</td>\n      <td>-0.588687</td>\n      <td>0.589678</td>\n    </tr>\n    <tr>\n      <th>3</th>\n      <td>cascade</td>\n      <td>4908.194818</td>\n      <td>82.0</td>\n      <td>-81.962572</td>\n      <td>20.986900</td>\n      <td>-245.509543</td>\n      <td>0.566605</td>\n      <td>-0.603250</td>\n      <td>-0.561292</td>\n    </tr>\n    <tr>\n      <th>4</th>\n      <td>cascade</td>\n      <td>2805.562549</td>\n      <td>84.0</td>\n      <td>2.948812</td>\n      <td>87.812131</td>\n      <td>421.713926</td>\n      <td>0.679440</td>\n      <td>-0.723383</td>\n      <td>0.122794</td>\n    </tr>\n  </tbody>\n</table>\n</div>"
     },
     "execution_count": 7,
     "metadata": {},
     "output_type": "execute_result"
    }
   ],
   "source": [
    "event_collection = generator_collection.generate(\n",
    "    start_time=0,\n",
    "    end_time=500,\n",
    ")\n",
    "\n",
    "event_collection.get_info_as_panda().head()"
   ],
   "metadata": {
    "collapsed": false
   }
  },
  {
   "cell_type": "markdown",
   "source": [
    "And save them"
   ],
   "metadata": {
    "collapsed": false
   }
  },
  {
   "cell_type": "code",
   "execution_count": 8,
   "outputs": [],
   "source": [
    "event_collection.save('./data/test')"
   ],
   "metadata": {
    "collapsed": false
   }
  },
  {
   "cell_type": "markdown",
   "source": [
    "### 1.2 Event Redistribution\n",
    "\n",
    "Obviously it would be a waste to regenerate all events all the time. That's the reason we can redistribute existing events according to our preferences. As well, we show that it is possible to load from a folder we created"
   ],
   "metadata": {
    "collapsed": false
   }
  },
  {
   "cell_type": "code",
   "execution_count": 12,
   "outputs": [
    {
     "name": "stderr",
     "output_type": "stream",
     "text": [
      "WARNING:root:Folder data/test2 already exists\n"
     ]
    },
    {
     "data": {
      "text/plain": "      type        energy  time      pos_x      pos_y       pos_z     dir_x  \\\n0  cascade    131.783860  1673 -95.585582 -43.394698 -377.209152  0.722848   \n1  cascade    116.950984  8435   2.306750 -19.456780 -419.599252  0.691434   \n2  cascade  18177.391376  3218 -31.213457  74.047659 -373.557825  0.648237   \n3  cascade   7257.621263  5006 -42.209868 -75.206314  355.490108  0.732342   \n4  cascade    124.871772  1319  39.474128  16.756848 -105.910200  0.633035   \n\n      dir_y     dir_z  \n0  0.644368  0.249562  \n1  0.616364 -0.376848  \n2  0.577857  0.495852  \n3  0.652830 -0.193619  \n4  0.564305  0.529930  ",
      "text/html": "<div>\n<style scoped>\n    .dataframe tbody tr th:only-of-type {\n        vertical-align: middle;\n    }\n\n    .dataframe tbody tr th {\n        vertical-align: top;\n    }\n\n    .dataframe thead th {\n        text-align: right;\n    }\n</style>\n<table border=\"1\" class=\"dataframe\">\n  <thead>\n    <tr style=\"text-align: right;\">\n      <th></th>\n      <th>type</th>\n      <th>energy</th>\n      <th>time</th>\n      <th>pos_x</th>\n      <th>pos_y</th>\n      <th>pos_z</th>\n      <th>dir_x</th>\n      <th>dir_y</th>\n      <th>dir_z</th>\n    </tr>\n  </thead>\n  <tbody>\n    <tr>\n      <th>0</th>\n      <td>cascade</td>\n      <td>131.783860</td>\n      <td>1673</td>\n      <td>-95.585582</td>\n      <td>-43.394698</td>\n      <td>-377.209152</td>\n      <td>0.722848</td>\n      <td>0.644368</td>\n      <td>0.249562</td>\n    </tr>\n    <tr>\n      <th>1</th>\n      <td>cascade</td>\n      <td>116.950984</td>\n      <td>8435</td>\n      <td>2.306750</td>\n      <td>-19.456780</td>\n      <td>-419.599252</td>\n      <td>0.691434</td>\n      <td>0.616364</td>\n      <td>-0.376848</td>\n    </tr>\n    <tr>\n      <th>2</th>\n      <td>cascade</td>\n      <td>18177.391376</td>\n      <td>3218</td>\n      <td>-31.213457</td>\n      <td>74.047659</td>\n      <td>-373.557825</td>\n      <td>0.648237</td>\n      <td>0.577857</td>\n      <td>0.495852</td>\n    </tr>\n    <tr>\n      <th>3</th>\n      <td>cascade</td>\n      <td>7257.621263</td>\n      <td>5006</td>\n      <td>-42.209868</td>\n      <td>-75.206314</td>\n      <td>355.490108</td>\n      <td>0.732342</td>\n      <td>0.652830</td>\n      <td>-0.193619</td>\n    </tr>\n    <tr>\n      <th>4</th>\n      <td>cascade</td>\n      <td>124.871772</td>\n      <td>1319</td>\n      <td>39.474128</td>\n      <td>16.756848</td>\n      <td>-105.910200</td>\n      <td>0.633035</td>\n      <td>0.564305</td>\n      <td>0.529930</td>\n    </tr>\n  </tbody>\n</table>\n</div>"
     },
     "execution_count": 12,
     "metadata": {},
     "output_type": "execute_result"
    }
   ],
   "source": [
    "event_collection_to_redistribute = EventCollection.from_folder('data/test')\n",
    "\n",
    "event_collection_to_redistribute.redistribute(0, 10000)\n",
    "\n",
    "event_collection_to_redistribute.save('data/test2')\n",
    "\n",
    "event_collection_to_redistribute.get_info_as_panda().head()"
   ],
   "metadata": {
    "collapsed": false
   }
  },
  {
   "cell_type": "markdown",
   "source": [
    "## 2. Dataset\n",
    "\n",
    "Now that we got our events, we want machine learning usable datasets for them.\n",
    "\n",
    "### General Workflow"
   ],
   "metadata": {
    "collapsed": false
   }
  },
  {
   "cell_type": "code",
   "execution_count": 13,
   "outputs": [],
   "source": [
    "event_collection_for_dataset = EventCollection.from_folder('data/test2')\n",
    "dataset = SingleHistogramDataset.from_event_collection(event_collection, start_time=0,end_time=10000)"
   ],
   "metadata": {
    "collapsed": false
   }
  },
  {
   "cell_type": "markdown",
   "source": [
    "Let's check it out"
   ],
   "metadata": {
    "collapsed": false
   }
  },
  {
   "cell_type": "code",
   "execution_count": 14,
   "outputs": [
    {
     "data": {
      "text/plain": "array([[0., 0., 1.],\n       [0., 0., 1.],\n       [0., 0., 1.],\n       [0., 0., 1.],\n       [0., 0., 1.],\n       [0., 0., 1.],\n       [0., 0., 1.],\n       [0., 0., 1.],\n       [0., 0., 1.],\n       [0., 0., 0.],\n       [0., 0., 1.],\n       [0., 0., 1.],\n       [0., 0., 1.],\n       [0., 0., 1.],\n       [0., 0., 1.],\n       [0., 0., 0.],\n       [0., 0., 1.],\n       [0., 0., 1.],\n       [0., 0., 1.],\n       [0., 0., 1.],\n       [0., 0., 0.],\n       [0., 0., 0.],\n       [0., 0., 0.],\n       [0., 0., 0.],\n       [0., 0., 0.],\n       [0., 0., 0.],\n       [0., 0., 0.],\n       [0., 0., 0.],\n       [0., 0., 0.],\n       [0., 0., 0.],\n       [0., 0., 0.],\n       [0., 0., 0.],\n       [0., 0., 0.],\n       [0., 0., 0.],\n       [0., 0., 0.],\n       [0., 0., 0.],\n       [0., 0., 0.],\n       [0., 0., 0.],\n       [0., 0., 0.],\n       [0., 0., 0.],\n       [0., 0., 0.],\n       [0., 0., 0.],\n       [0., 0., 0.],\n       [0., 0., 0.],\n       [0., 0., 0.],\n       [0., 0., 0.],\n       [0., 0., 0.],\n       [0., 0., 0.],\n       [0., 0., 0.],\n       [0., 0., 0.],\n       [0., 0., 0.],\n       [0., 0., 0.],\n       [0., 0., 0.],\n       [0., 0., 0.],\n       [0., 0., 0.],\n       [0., 0., 0.],\n       [0., 0., 0.],\n       [0., 0., 0.],\n       [0., 0., 0.],\n       [0., 0., 0.],\n       [0., 0., 0.],\n       [0., 0., 0.],\n       [0., 0., 0.],\n       [0., 0., 0.],\n       [0., 0., 0.],\n       [0., 0., 0.],\n       [0., 0., 0.],\n       [0., 0., 0.],\n       [0., 0., 0.],\n       [0., 0., 0.],\n       [0., 0., 0.],\n       [0., 0., 0.],\n       [0., 0., 0.],\n       [0., 0., 0.],\n       [0., 0., 0.],\n       [0., 0., 0.],\n       [0., 0., 0.],\n       [0., 0., 0.],\n       [0., 0., 0.],\n       [0., 0., 0.],\n       [0., 0., 0.],\n       [0., 0., 0.],\n       [0., 0., 0.],\n       [0., 0., 0.],\n       [0., 0., 0.],\n       [0., 0., 0.],\n       [0., 0., 0.],\n       [0., 0., 0.],\n       [0., 0., 0.],\n       [0., 0., 0.],\n       [0., 0., 0.],\n       [0., 0., 0.],\n       [0., 0., 0.],\n       [0., 0., 0.],\n       [0., 0., 0.],\n       [0., 0., 0.],\n       [0., 0., 0.],\n       [0., 0., 0.],\n       [0., 0., 0.],\n       [0., 0., 0.],\n       [0., 0., 0.],\n       [0., 0., 0.],\n       [0., 0., 0.],\n       [0., 0., 0.],\n       [0., 0., 0.],\n       [0., 0., 0.],\n       [0., 0., 0.],\n       [0., 0., 0.],\n       [0., 0., 0.],\n       [0., 0., 0.],\n       [0., 0., 0.],\n       [0., 0., 0.],\n       [0., 0., 0.],\n       [0., 0., 0.],\n       [0., 0., 0.],\n       [0., 0., 0.],\n       [0., 0., 0.],\n       [0., 0., 0.],\n       [0., 0., 0.],\n       [0., 0., 0.],\n       [0., 0., 0.],\n       [0., 0., 0.],\n       [0., 0., 0.],\n       [0., 0., 0.],\n       [0., 0., 0.],\n       [0., 0., 0.],\n       [0., 0., 0.],\n       [0., 0., 0.],\n       [0., 0., 0.],\n       [0., 0., 0.],\n       [0., 0., 0.],\n       [0., 0., 0.],\n       [0., 0., 0.],\n       [0., 0., 0.],\n       [0., 0., 0.],\n       [0., 0., 0.],\n       [0., 0., 0.],\n       [0., 0., 0.],\n       [0., 0., 0.],\n       [0., 0., 0.],\n       [0., 0., 0.],\n       [0., 0., 0.],\n       [0., 0., 0.],\n       [0., 0., 0.],\n       [0., 0., 0.],\n       [0., 0., 0.],\n       [0., 0., 0.],\n       [0., 0., 0.],\n       [0., 0., 0.],\n       [0., 0., 0.],\n       [0., 0., 0.],\n       [0., 0., 0.],\n       [0., 0., 0.],\n       [0., 0., 0.],\n       [0., 0., 0.],\n       [0., 0., 0.],\n       [0., 0., 0.],\n       [0., 0., 0.],\n       [0., 0., 0.],\n       [0., 0., 0.],\n       [0., 0., 0.],\n       [0., 0., 0.],\n       [0., 0., 0.],\n       [0., 0., 0.],\n       [0., 0., 0.],\n       [0., 0., 0.],\n       [0., 0., 0.],\n       [0., 0., 0.],\n       [0., 0., 0.],\n       [0., 0., 0.],\n       [0., 0., 0.],\n       [0., 0., 0.],\n       [0., 0., 0.],\n       [0., 0., 0.],\n       [0., 0., 0.],\n       [0., 0., 0.],\n       [0., 0., 0.],\n       [0., 0., 0.],\n       [0., 0., 0.],\n       [0., 0., 0.],\n       [0., 0., 0.],\n       [0., 0., 0.],\n       [0., 0., 0.],\n       [0., 0., 0.],\n       [0., 0., 0.],\n       [0., 0., 0.],\n       [0., 0., 0.],\n       [0., 0., 0.],\n       [0., 0., 0.],\n       [0., 0., 0.],\n       [0., 0., 0.],\n       [0., 0., 0.],\n       [0., 0., 0.],\n       [0., 0., 0.],\n       [0., 0., 0.],\n       [0., 0., 0.],\n       [0., 0., 0.],\n       [0., 0., 0.],\n       [0., 0., 0.],\n       [0., 0., 0.]])"
     },
     "execution_count": 14,
     "metadata": {},
     "output_type": "execute_result"
    }
   ],
   "source": [
    "dataset.labels"
   ],
   "metadata": {
    "collapsed": false
   }
  },
  {
   "cell_type": "code",
   "execution_count": 15,
   "outputs": [
    {
     "data": {
      "text/plain": "array([[0., 0., 0., ..., 0., 0., 0.],\n       [0., 1., 0., ..., 0., 0., 0.],\n       [0., 0., 0., ..., 0., 0., 0.],\n       ...,\n       [0., 0., 0., ..., 0., 0., 0.],\n       [1., 0., 0., ..., 0., 0., 0.],\n       [0., 0., 0., ..., 0., 0., 0.]])"
     },
     "execution_count": 15,
     "metadata": {},
     "output_type": "execute_result"
    }
   ],
   "source": [
    "dataset.histogram"
   ],
   "metadata": {
    "collapsed": false
   }
  },
  {
   "cell_type": "markdown",
   "source": [
    "and save it"
   ],
   "metadata": {
    "collapsed": false
   }
  },
  {
   "cell_type": "code",
   "execution_count": 16,
   "outputs": [],
   "source": [
    "dataset.save('./data/test_dataset')"
   ],
   "metadata": {
    "collapsed": false
   }
  },
  {
   "cell_type": "markdown",
   "source": [
    "### Use Aggregation\n",
    "\n",
    "It can be of use to pre-aggregate the module information"
   ],
   "metadata": {
    "collapsed": false
   }
  },
  {
   "cell_type": "code",
   "execution_count": 18,
   "outputs": [
    {
     "data": {
      "text/plain": "array([1.000e+00, 2.000e+00, 1.000e+00, 1.000e+00, 2.930e+02, 2.290e+02,\n       5.661e+03, 1.012e+03, 2.656e+03, 1.373e+03, 7.650e+02, 8.300e+02,\n       9.510e+02, 6.590e+02, 6.650e+02, 4.660e+02, 9.930e+02, 4.098e+03,\n       1.666e+03, 1.386e+03, 6.360e+02, 1.687e+03, 1.608e+03, 1.873e+03,\n       1.028e+03, 5.960e+02, 3.590e+02, 3.500e+02, 2.280e+02, 3.290e+02,\n       1.610e+02, 1.640e+02, 1.310e+02, 6.700e+01, 2.900e+01, 3.000e+01,\n       2.300e+01, 1.000e+01, 4.000e+00, 6.000e+00, 4.000e+00, 4.000e+00,\n       1.000e+00, 3.000e+00, 0.000e+00, 0.000e+00, 1.000e+00, 0.000e+00,\n       0.000e+00, 1.000e+00, 0.000e+00, 0.000e+00, 0.000e+00, 0.000e+00,\n       0.000e+00, 0.000e+00, 0.000e+00, 0.000e+00, 0.000e+00, 0.000e+00,\n       0.000e+00, 0.000e+00, 0.000e+00, 0.000e+00, 0.000e+00, 0.000e+00,\n       0.000e+00, 0.000e+00, 0.000e+00, 0.000e+00, 0.000e+00, 0.000e+00,\n       0.000e+00, 0.000e+00, 0.000e+00, 0.000e+00, 0.000e+00, 0.000e+00,\n       0.000e+00, 0.000e+00, 0.000e+00, 0.000e+00, 0.000e+00, 0.000e+00,\n       0.000e+00, 0.000e+00, 0.000e+00, 0.000e+00, 0.000e+00, 0.000e+00,\n       0.000e+00, 0.000e+00, 0.000e+00, 0.000e+00, 0.000e+00, 0.000e+00,\n       0.000e+00, 0.000e+00, 0.000e+00, 0.000e+00, 0.000e+00, 0.000e+00,\n       0.000e+00, 0.000e+00, 0.000e+00, 0.000e+00, 0.000e+00, 0.000e+00,\n       0.000e+00, 0.000e+00, 0.000e+00, 0.000e+00, 0.000e+00, 0.000e+00,\n       0.000e+00, 0.000e+00, 0.000e+00, 0.000e+00, 0.000e+00, 0.000e+00,\n       0.000e+00, 0.000e+00, 0.000e+00, 0.000e+00, 0.000e+00, 0.000e+00,\n       0.000e+00, 0.000e+00, 0.000e+00, 0.000e+00, 0.000e+00, 0.000e+00,\n       0.000e+00, 0.000e+00, 0.000e+00, 0.000e+00, 0.000e+00, 0.000e+00,\n       0.000e+00, 0.000e+00, 0.000e+00, 0.000e+00, 0.000e+00, 0.000e+00,\n       0.000e+00, 0.000e+00, 0.000e+00, 0.000e+00, 0.000e+00, 0.000e+00,\n       0.000e+00, 0.000e+00, 0.000e+00, 0.000e+00, 0.000e+00, 0.000e+00,\n       0.000e+00, 0.000e+00, 0.000e+00, 0.000e+00, 0.000e+00, 0.000e+00,\n       0.000e+00, 0.000e+00, 0.000e+00, 0.000e+00, 0.000e+00, 0.000e+00,\n       0.000e+00, 0.000e+00, 0.000e+00, 0.000e+00, 0.000e+00, 0.000e+00,\n       0.000e+00, 0.000e+00, 0.000e+00, 0.000e+00, 0.000e+00, 0.000e+00,\n       0.000e+00, 0.000e+00, 0.000e+00, 0.000e+00, 0.000e+00, 0.000e+00,\n       0.000e+00, 0.000e+00, 0.000e+00, 0.000e+00, 0.000e+00, 0.000e+00,\n       0.000e+00, 0.000e+00, 0.000e+00, 0.000e+00, 0.000e+00, 0.000e+00,\n       0.000e+00, 0.000e+00])"
     },
     "execution_count": 18,
     "metadata": {},
     "output_type": "execute_result"
    }
   ],
   "source": [
    "new_set = SingleHistogramDataset.load('./data/test_dataset', np.sum, {\n",
    "    'axis': 0\n",
    "})\n",
    "\n",
    "new_set.histogram"
   ],
   "metadata": {
    "collapsed": false
   }
  }
 ],
 "metadata": {
  "kernelspec": {
   "display_name": "Python 3",
   "language": "python",
   "name": "python3"
  },
  "language_info": {
   "codemirror_mode": {
    "name": "ipython",
    "version": 2
   },
   "file_extension": ".py",
   "mimetype": "text/x-python",
   "name": "python",
   "nbconvert_exporter": "python",
   "pygments_lexer": "ipython2",
   "version": "2.7.6"
  }
 },
 "nbformat": 4,
 "nbformat_minor": 0
}
