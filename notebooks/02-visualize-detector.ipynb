{
 "cells": [
  {
   "cell_type": "markdown",
   "source": [
    "# 02 Visualize Detector\n",
    "\n",
    "While having the events and being able to work with them is nice, sometimes our human brains need something to visualize. The options are shown in this notebook.\n",
    "\n",
    "## Table of Contents\n",
    "\n",
    "* [Import Dependencies](#dependencies)\n",
    "* [Load Collection](#events)\n",
    "* [Show Histogram](#histogram)\n",
    "* [Animate detector](#detector)\n",
    "\n",
    "## Import Dependencies <a class=\"anchor\" id=\"dependencies\"></a>"
   ],
   "metadata": {
    "collapsed": false
   }
  },
  {
   "cell_type": "code",
   "execution_count": 2,
   "outputs": [
    {
     "name": "stdout",
     "output_type": "stream",
     "text": [
      "The autoreload extension is already loaded. To reload it, use:\n",
      "  %reload_ext autoreload\n"
     ]
    },
    {
     "ename": "ModuleNotFoundError",
     "evalue": "No module named 'apollo.data'",
     "output_type": "error",
     "traceback": [
      "\u001B[0;31m---------------------------------------------------------------------------\u001B[0m",
      "\u001B[0;31mModuleNotFoundError\u001B[0m                       Traceback (most recent call last)",
      "Input \u001B[0;32mIn [2]\u001B[0m, in \u001B[0;36m<module>\u001B[0;34m\u001B[0m\n\u001B[1;32m      7\u001B[0m sys\u001B[38;5;241m.\u001B[39mpath\u001B[38;5;241m.\u001B[39mappend(\u001B[38;5;124m\"\u001B[39m\u001B[38;5;124m../../olympus\u001B[39m\u001B[38;5;124m\"\u001B[39m)\n\u001B[1;32m      9\u001B[0m \u001B[38;5;28;01mimport\u001B[39;00m \u001B[38;5;21;01mplotly\u001B[39;00m\u001B[38;5;21;01m.\u001B[39;00m\u001B[38;5;21;01mgraph_objects\u001B[39;00m \u001B[38;5;28;01mas\u001B[39;00m \u001B[38;5;21;01mgo\u001B[39;00m\n\u001B[0;32m---> 11\u001B[0m \u001B[38;5;28;01mfrom\u001B[39;00m \u001B[38;5;21;01mapollo\u001B[39;00m\u001B[38;5;21;01m.\u001B[39;00m\u001B[38;5;21;01mdata\u001B[39;00m\u001B[38;5;21;01m.\u001B[39;00m\u001B[38;5;21;01mimporters\u001B[39;00m \u001B[38;5;28;01mimport\u001B[39;00m EventCollectionImporter\n\u001B[1;32m     12\u001B[0m \u001B[38;5;28;01mfrom\u001B[39;00m \u001B[38;5;21;01mapollo\u001B[39;00m\u001B[38;5;21;01m.\u001B[39;00m\u001B[38;5;21;01mutils\u001B[39;00m\u001B[38;5;21;01m.\u001B[39;00m\u001B[38;5;21;01mdetector_helpers\u001B[39;00m \u001B[38;5;28;01mimport\u001B[39;00m get_line_detector\n\u001B[1;32m     13\u001B[0m \u001B[38;5;28;01mfrom\u001B[39;00m \u001B[38;5;21;01mapollo\u001B[39;00m\u001B[38;5;21;01m.\u001B[39;00m\u001B[38;5;21;01mdata\u001B[39;00m\u001B[38;5;21;01m.\u001B[39;00m\u001B[38;5;21;01mconfigs\u001B[39;00m \u001B[38;5;28;01mimport\u001B[39;00m Interval, HistogramConfig\n",
      "\u001B[0;31mModuleNotFoundError\u001B[0m: No module named 'apollo.data'"
     ]
    }
   ],
   "source": [
    "%load_ext autoreload\n",
    "%autoreload 2\n",
    "\n",
    "import sys\n",
    "\n",
    "sys.path.append(\"../\")\n",
    "sys.path.append(\"../../olympus\")\n",
    "\n",
    "import plotly.graph_objects as go\n",
    "\n",
    "from apollo.data.importers import EventCollectionImporter\n",
    "from apollo.utils.detector_helpers import get_line_detector\n",
    "from apollo.data.configs import Interval, HistogramConfig\n",
    "from apollo.data.events import EventTimeframeMode\n",
    "from apollo.visualization.events import plot_histogram, plot_timeline"
   ],
   "metadata": {
    "collapsed": false
   }
  },
  {
   "cell_type": "markdown",
   "source": [
    "## Load Collection  <a class=\"events\" id=\"dependencies\"></a>\n",
    "\n",
    "This works with all events from Olympus. For further reference check the notebook `01-load-and-explore-events`."
   ],
   "metadata": {
    "collapsed": false
   }
  },
  {
   "cell_type": "code",
   "execution_count": null,
   "outputs": [],
   "source": [
    "detector = get_line_detector()\n",
    "event_collection = EventCollectionImporter.from_pickle(\n",
    "    \"../../data/all/events_track_0.pickle\", detector=detector\n",
    ")"
   ],
   "metadata": {
    "collapsed": false
   }
  },
  {
   "cell_type": "markdown",
   "source": [
    "## Show Histogram <a class=\"histogram\" id=\"dependencies\"></a>\n",
    "\n",
    "If you want to show how event(s) unfold over time with a given detector you can plot the histogram."
   ],
   "metadata": {
    "collapsed": false
   }
  },
  {
   "cell_type": "code",
   "execution_count": null,
   "outputs": [],
   "source": [
    "interval = Interval(0, 1000)\n",
    "histogram_config = HistogramConfig(start=interval.start, end=interval.end, bin_size=10)\n",
    "\n",
    "# make sure not everything starts at 0\n",
    "event_collection.redistribute(\n",
    "    interval, is_in_timeframe_mode=EventTimeframeMode.CONTAINS_HIT\n",
    ")\n",
    "\n",
    "raw_histogram = event_collection.get_histogram(histogram_config)\n",
    "\n",
    "fig = go.Figure()\n",
    "\n",
    "fig.add_trace(plot_histogram(raw_histogram))\n",
    "fig.show()"
   ],
   "metadata": {
    "collapsed": false
   }
  },
  {
   "cell_type": "markdown",
   "source": [
    "## Animate Detector <a class=\"anchor\" id=\"detector\"></a>\n",
    "\n",
    "Apart from aboves histogram view, it is possible to see the full animation of the detector with its events."
   ],
   "metadata": {
    "collapsed": false
   }
  },
  {
   "cell_type": "code",
   "execution_count": null,
   "outputs": [],
   "source": [
    "plot_timeline(\n",
    "    event_collection,\n",
    "    histogram_config=histogram_config,\n",
    "    title=\"Timeline\",\n",
    "    draw_sources=True,\n",
    "    show=False,\n",
    ")"
   ],
   "metadata": {
    "collapsed": false
   }
  }
 ],
 "metadata": {
  "kernelspec": {
   "display_name": "Python 3",
   "language": "python",
   "name": "python3"
  },
  "language_info": {
   "codemirror_mode": {
    "name": "ipython",
    "version": 2
   },
   "file_extension": ".py",
   "mimetype": "text/x-python",
   "name": "python",
   "nbconvert_exporter": "python",
   "pygments_lexer": "ipython2",
   "version": "2.7.6"
  }
 },
 "nbformat": 4,
 "nbformat_minor": 0
}
