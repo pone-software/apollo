{
 "cells": [
  {
   "cell_type": "markdown",
   "source": [
    "# 02 Visualize Detector\n",
    "\n",
    "While having the events and being able to work with them is nice, sometimes our human brains need something to visualize. The options are shown in this notebook."
   ],
   "metadata": {
    "collapsed": false
   }
  }
 ],
 "metadata": {
  "kernelspec": {
   "display_name": "Python 3",
   "language": "python",
   "name": "python3"
  },
  "language_info": {
   "codemirror_mode": {
    "name": "ipython",
    "version": 2
   },
   "file_extension": ".py",
   "mimetype": "text/x-python",
   "name": "python",
   "nbconvert_exporter": "python",
   "pygments_lexer": "ipython2",
   "version": "2.7.6"
  }
 },
 "nbformat": 4,
 "nbformat_minor": 0
}
