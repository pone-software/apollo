{
 "cells": [
  {
   "cell_type": "markdown",
   "source": [
    "# 03 Create Dataset\n",
    "\n",
    "In the previous two examples we have seen how to import, visualize and treat the data. This Notebook is about creating a dataset for training.\n",
    "\n",
    "## Table of Contents\n",
    "\n",
    "* [General Idea](#idea)\n",
    "* [Load Dependencies](#dependencies)\n",
    "* [Load Collection to Transform](#events)\n",
    "* [Create Multi Histogram Dataset](#create)\n",
    "* [Dataset investigation](#investigate)\n",
    "\n",
    "\n",
    "## General idea <a class=\"anchor\" href=\"idea\"></a>\n",
    "\n",
    "We want to generate an efficient dataset for training later on. To try different noise levels, we work with the pure histograms and let the noise be added on the fly later. Each generated dataset contains of three parts:\n",
    "\n",
    "1. **Index file in `feather` format:** Contains the event data and the filename where the histogram can be found relative\n",
    "2. **Configuration file:** Json format containing the detector, etc.\n",
    "3. **Histogram files:** Files containing hits as histograms depending on the detector\n",
    "\n",
    "All of those explanations will be demonstrated at the section about [Dataset investigation](#investigate).\n",
    "\n",
    "## Load Dependencies <a class=\"anchor\" href=\"dependencies\"></a>"
   ],
   "metadata": {
    "collapsed": false,
    "pycharm": {
     "name": "#%% md\n"
    }
   }
  },
  {
   "cell_type": "code",
   "execution_count": 39,
   "metadata": {
    "collapsed": true,
    "pycharm": {
     "name": "#%%\n"
    }
   },
   "outputs": [
    {
     "name": "stdout",
     "output_type": "stream",
     "text": [
      "The autoreload extension is already loaded. To reload it, use:\n",
      "  %reload_ext autoreload\n"
     ]
    }
   ],
   "source": [
    "%load_ext autoreload\n",
    "%autoreload 2\n",
    "\n",
    "import sys\n",
    "\n",
    "sys.path.append(\"../\")\n",
    "sys.path.append(\"../../olympus\")\n",
    "\n",
    "import json\n",
    "import os\n",
    "\n",
    "import pandas as pd\n",
    "import numpy as np\n",
    "import shutil\n",
    "\n",
    "from apollo.data.importers import EventCollectionImporter\n",
    "from apollo.utils.detector_helpers import get_line_detector\n",
    "from apollo.dataset.generators import MultiHistogramGenerator\n",
    "from apollo.data.configs import Interval, HistogramConfig, HistogramDatasetConfig\n",
    "from apollo.data.events import EventTimeframeMode\n",
    "from apollo.visualization.events import plot_histogram, plot_timeline"
   ]
  },
  {
   "cell_type": "markdown",
   "source": [
    "## Load events to transform <a class=\"anchor\" href=\"events\"></a>"
   ],
   "metadata": {
    "collapsed": false,
    "pycharm": {
     "name": "#%% md\n"
    }
   }
  },
  {
   "cell_type": "code",
   "execution_count": 10,
   "outputs": [],
   "source": [
    "detector = get_line_detector()\n",
    "event_collection = EventCollectionImporter.from_pickle(\n",
    "    \"../../data/all/events_track_0.pickle\", detector=detector\n",
    ")"
   ],
   "metadata": {
    "collapsed": false,
    "pycharm": {
     "name": "#%%\n"
    }
   }
  },
  {
   "cell_type": "markdown",
   "source": [
    "## Create Multi Histogram Dataset <a class=\"anchor\" href=\"create\"></a>\n",
    "\n",
    "Now we are ready to create the dataset that we have been waiting for."
   ],
   "metadata": {
    "collapsed": false,
    "pycharm": {
     "name": "#%% md\n"
    }
   }
  },
  {
   "cell_type": "code",
   "execution_count": 42,
   "outputs": [
    {
     "name": "stderr",
     "output_type": "stream",
     "text": [
      "WARNING:root:No events to generate Histogram\n",
      "WARNING:root:No events to generate Histogram\n",
      "WARNING:root:No events to generate Histogram\n",
      "WARNING:root:No events to generate Histogram\n",
      "WARNING:root:No events to generate Histogram\n",
      "WARNING:root:No events to generate Histogram\n",
      "WARNING:root:No events to generate Histogram\n",
      "WARNING:root:No events to generate Histogram\n",
      "WARNING:root:No events to generate Histogram\n",
      "WARNING:root:No events to generate Histogram\n",
      "WARNING:root:No events to generate Histogram\n",
      "WARNING:root:No events to generate Histogram\n",
      "WARNING:root:No events to generate Histogram\n",
      "WARNING:root:No events to generate Histogram\n",
      "WARNING:root:No events to generate Histogram\n",
      "WARNING:root:No events to generate Histogram\n",
      "WARNING:root:No events to generate Histogram\n",
      "WARNING:root:No events to generate Histogram\n",
      "WARNING:root:No events to generate Histogram\n",
      "WARNING:root:No events to generate Histogram\n",
      "WARNING:root:No events to generate Histogram\n",
      "WARNING:root:No events to generate Histogram\n",
      "WARNING:root:No events to generate Histogram\n",
      "WARNING:root:No events to generate Histogram\n",
      "WARNING:root:No events to generate Histogram\n",
      "WARNING:root:No events to generate Histogram\n",
      "WARNING:root:No events to generate Histogram\n",
      "WARNING:root:No events to generate Histogram\n",
      "WARNING:root:No events to generate Histogram\n",
      "WARNING:root:No events to generate Histogram\n",
      "WARNING:root:No events to generate Histogram\n",
      "WARNING:root:No events to generate Histogram\n",
      "WARNING:root:No events to generate Histogram\n",
      "WARNING:root:No events to generate Histogram\n",
      "WARNING:root:No events to generate Histogram\n",
      "WARNING:root:No events to generate Histogram\n",
      "WARNING:root:No events to generate Histogram\n",
      "WARNING:root:No events to generate Histogram\n",
      "WARNING:root:No events to generate Histogram\n",
      "WARNING:root:No events to generate Histogram\n",
      "WARNING:root:No events to generate Histogram\n",
      "WARNING:root:No events to generate Histogram\n",
      "WARNING:root:No events to generate Histogram\n",
      "WARNING:root:No events to generate Histogram\n",
      "WARNING:root:No events to generate Histogram\n",
      "WARNING:root:No events to generate Histogram\n",
      "WARNING:root:No events to generate Histogram\n",
      "WARNING:root:No events to generate Histogram\n",
      "WARNING:root:No events to generate Histogram\n",
      "WARNING:root:No events to generate Histogram\n",
      "WARNING:root:No events to generate Histogram\n",
      "WARNING:root:No events to generate Histogram\n",
      "WARNING:root:No events to generate Histogram\n",
      "WARNING:root:No events to generate Histogram\n",
      "WARNING:root:No events to generate Histogram\n",
      "WARNING:root:No events to generate Histogram\n",
      "WARNING:root:No events to generate Histogram\n",
      "WARNING:root:No events to generate Histogram\n",
      "WARNING:root:No events to generate Histogram\n",
      "WARNING:root:No events to generate Histogram\n",
      "WARNING:root:No events to generate Histogram\n",
      "WARNING:root:No events to generate Histogram\n",
      "WARNING:root:No events to generate Histogram\n",
      "WARNING:root:No events to generate Histogram\n",
      "WARNING:root:No events to generate Histogram\n",
      "WARNING:root:No events to generate Histogram\n",
      "WARNING:root:No events to generate Histogram\n",
      "WARNING:root:No events to generate Histogram\n",
      "WARNING:root:No events to generate Histogram\n",
      "WARNING:root:No events to generate Histogram\n",
      "WARNING:root:No events to generate Histogram\n",
      "WARNING:root:No events to generate Histogram\n",
      "WARNING:root:No events to generate Histogram\n",
      "WARNING:root:No events to generate Histogram\n",
      "WARNING:root:No events to generate Histogram\n",
      "WARNING:root:No events to generate Histogram\n",
      "WARNING:root:No events to generate Histogram\n",
      "WARNING:root:No events to generate Histogram\n",
      "WARNING:root:No events to generate Histogram\n",
      "WARNING:root:No events to generate Histogram\n",
      "WARNING:root:No events to generate Histogram\n",
      "WARNING:root:No events to generate Histogram\n",
      "WARNING:root:No events to generate Histogram\n",
      "WARNING:root:No events to generate Histogram\n",
      "WARNING:root:No events to generate Histogram\n",
      "WARNING:root:No events to generate Histogram\n",
      "WARNING:root:No events to generate Histogram\n",
      "WARNING:root:No events to generate Histogram\n",
      "WARNING:root:No events to generate Histogram\n",
      "WARNING:root:No events to generate Histogram\n",
      "WARNING:root:No events to generate Histogram\n",
      "WARNING:root:No events to generate Histogram\n",
      "WARNING:root:No events to generate Histogram\n",
      "WARNING:root:No events to generate Histogram\n",
      "WARNING:root:No events to generate Histogram\n",
      "WARNING:root:No events to generate Histogram\n",
      "WARNING:root:No events to generate Histogram\n",
      "WARNING:root:No events to generate Histogram\n",
      "WARNING:root:No events to generate Histogram\n",
      "WARNING:root:No events to generate Histogram\n",
      "WARNING:root:No events to generate Histogram\n",
      "WARNING:root:No events to generate Histogram\n",
      "WARNING:root:No events to generate Histogram\n",
      "WARNING:root:No events to generate Histogram\n",
      "WARNING:root:No events to generate Histogram\n",
      "WARNING:root:No events to generate Histogram\n",
      "WARNING:root:No events to generate Histogram\n",
      "WARNING:root:No events to generate Histogram\n",
      "WARNING:root:No events to generate Histogram\n",
      "WARNING:root:No events to generate Histogram\n",
      "WARNING:root:No events to generate Histogram\n",
      "WARNING:root:No events to generate Histogram\n",
      "WARNING:root:No events to generate Histogram\n",
      "WARNING:root:No events to generate Histogram\n",
      "WARNING:root:No events to generate Histogram\n",
      "WARNING:root:No events to generate Histogram\n",
      "WARNING:root:No events to generate Histogram\n",
      "WARNING:root:No events to generate Histogram\n",
      "WARNING:root:No events to generate Histogram\n",
      "WARNING:root:No events to generate Histogram\n",
      "WARNING:root:No events to generate Histogram\n",
      "WARNING:root:No events to generate Histogram\n",
      "WARNING:root:No events to generate Histogram\n",
      "WARNING:root:No events to generate Histogram\n",
      "WARNING:root:No events to generate Histogram\n",
      "WARNING:root:No events to generate Histogram\n",
      "WARNING:root:No events to generate Histogram\n",
      "WARNING:root:No events to generate Histogram\n",
      "WARNING:root:No events to generate Histogram\n",
      "WARNING:root:No events to generate Histogram\n",
      "WARNING:root:No events to generate Histogram\n",
      "WARNING:root:No events to generate Histogram\n",
      "WARNING:root:No events to generate Histogram\n",
      "WARNING:root:No events to generate Histogram\n",
      "WARNING:root:No events to generate Histogram\n",
      "WARNING:root:No events to generate Histogram\n",
      "WARNING:root:No events to generate Histogram\n",
      "WARNING:root:No events to generate Histogram\n",
      "WARNING:root:No events to generate Histogram\n",
      "WARNING:root:No events to generate Histogram\n",
      "WARNING:root:No events to generate Histogram\n",
      "WARNING:root:No events to generate Histogram\n",
      "WARNING:root:No events to generate Histogram\n",
      "WARNING:root:No events to generate Histogram\n",
      "WARNING:root:No events to generate Histogram\n",
      "WARNING:root:No events to generate Histogram\n",
      "WARNING:root:No events to generate Histogram\n",
      "WARNING:root:No events to generate Histogram\n",
      "WARNING:root:No events to generate Histogram\n",
      "WARNING:root:No events to generate Histogram\n",
      "WARNING:root:No events to generate Histogram\n",
      "WARNING:root:No events to generate Histogram\n",
      "WARNING:root:No events to generate Histogram\n",
      "WARNING:root:No events to generate Histogram\n",
      "WARNING:root:No events to generate Histogram\n",
      "WARNING:root:No events to generate Histogram\n",
      "WARNING:root:No events to generate Histogram\n",
      "WARNING:root:No events to generate Histogram\n",
      "WARNING:root:No events to generate Histogram\n",
      "WARNING:root:No events to generate Histogram\n",
      "WARNING:root:No events to generate Histogram\n",
      "WARNING:root:No events to generate Histogram\n",
      "WARNING:root:No events to generate Histogram\n",
      "WARNING:root:No events to generate Histogram\n",
      "WARNING:root:No events to generate Histogram\n",
      "WARNING:root:No events to generate Histogram\n",
      "WARNING:root:No events to generate Histogram\n",
      "WARNING:root:No events to generate Histogram\n",
      "WARNING:root:No events to generate Histogram\n",
      "WARNING:root:No events to generate Histogram\n",
      "WARNING:root:No events to generate Histogram\n",
      "WARNING:root:No events to generate Histogram\n",
      "WARNING:root:No events to generate Histogram\n",
      "WARNING:root:No events to generate Histogram\n",
      "WARNING:root:No events to generate Histogram\n",
      "WARNING:root:No events to generate Histogram\n",
      "WARNING:root:No events to generate Histogram\n",
      "WARNING:root:No events to generate Histogram\n",
      "WARNING:root:No events to generate Histogram\n",
      "WARNING:root:No events to generate Histogram\n",
      "WARNING:root:No events to generate Histogram\n",
      "WARNING:root:No events to generate Histogram\n",
      "WARNING:root:No events to generate Histogram\n",
      "WARNING:root:No events to generate Histogram\n",
      "WARNING:root:No events to generate Histogram\n",
      "WARNING:root:No events to generate Histogram\n",
      "WARNING:root:No events to generate Histogram\n",
      "WARNING:root:No events to generate Histogram\n",
      "WARNING:root:No events to generate Histogram\n",
      "WARNING:root:No events to generate Histogram\n",
      "WARNING:root:No events to generate Histogram\n",
      "WARNING:root:No events to generate Histogram\n",
      "WARNING:root:No events to generate Histogram\n",
      "WARNING:root:No events to generate Histogram\n",
      "WARNING:root:No events to generate Histogram\n",
      "WARNING:root:No events to generate Histogram\n",
      "WARNING:root:No events to generate Histogram\n",
      "WARNING:root:No events to generate Histogram\n",
      "WARNING:root:No events to generate Histogram\n",
      "WARNING:root:No events to generate Histogram\n",
      "WARNING:root:No events to generate Histogram\n",
      "WARNING:root:No events to generate Histogram\n",
      "WARNING:root:No events to generate Histogram\n",
      "WARNING:root:No events to generate Histogram\n",
      "WARNING:root:No events to generate Histogram\n",
      "WARNING:root:No events to generate Histogram\n",
      "WARNING:root:No events to generate Histogram\n",
      "WARNING:root:No events to generate Histogram\n",
      "WARNING:root:No events to generate Histogram\n",
      "WARNING:root:No events to generate Histogram\n",
      "WARNING:root:No events to generate Histogram\n",
      "WARNING:root:No events to generate Histogram\n",
      "WARNING:root:No events to generate Histogram\n",
      "WARNING:root:No events to generate Histogram\n",
      "WARNING:root:No events to generate Histogram\n",
      "WARNING:root:No events to generate Histogram\n",
      "WARNING:root:No events to generate Histogram\n",
      "WARNING:root:No events to generate Histogram\n",
      "WARNING:root:No events to generate Histogram\n",
      "WARNING:root:No events to generate Histogram\n",
      "WARNING:root:No events to generate Histogram\n",
      "WARNING:root:No events to generate Histogram\n",
      "WARNING:root:No events to generate Histogram\n",
      "WARNING:root:No events to generate Histogram\n",
      "WARNING:root:No events to generate Histogram\n",
      "WARNING:root:No events to generate Histogram\n",
      "WARNING:root:No events to generate Histogram\n",
      "WARNING:root:No events to generate Histogram\n",
      "WARNING:root:No events to generate Histogram\n",
      "WARNING:root:No events to generate Histogram\n",
      "WARNING:root:No events to generate Histogram\n",
      "WARNING:root:No events to generate Histogram\n",
      "WARNING:root:No events to generate Histogram\n",
      "WARNING:root:No events to generate Histogram\n",
      "WARNING:root:No events to generate Histogram\n",
      "WARNING:root:No events to generate Histogram\n",
      "WARNING:root:No events to generate Histogram\n",
      "WARNING:root:No events to generate Histogram\n",
      "WARNING:root:No events to generate Histogram\n",
      "WARNING:root:No events to generate Histogram\n",
      "WARNING:root:No events to generate Histogram\n",
      "WARNING:root:No events to generate Histogram\n",
      "WARNING:root:No events to generate Histogram\n",
      "WARNING:root:No events to generate Histogram\n",
      "WARNING:root:No events to generate Histogram\n",
      "WARNING:root:No events to generate Histogram\n",
      "WARNING:root:No events to generate Histogram\n",
      "WARNING:root:No events to generate Histogram\n",
      "WARNING:root:No events to generate Histogram\n",
      "WARNING:root:No events to generate Histogram\n",
      "WARNING:root:No events to generate Histogram\n",
      "WARNING:root:No events to generate Histogram\n",
      "WARNING:root:No events to generate Histogram\n",
      "WARNING:root:No events to generate Histogram\n",
      "WARNING:root:No events to generate Histogram\n",
      "WARNING:root:No events to generate Histogram\n",
      "WARNING:root:No events to generate Histogram\n",
      "WARNING:root:No events to generate Histogram\n",
      "WARNING:root:No events to generate Histogram\n",
      "WARNING:root:No events to generate Histogram\n",
      "WARNING:root:No events to generate Histogram\n",
      "WARNING:root:No events to generate Histogram\n",
      "WARNING:root:No events to generate Histogram\n",
      "WARNING:root:No events to generate Histogram\n",
      "WARNING:root:No events to generate Histogram\n",
      "WARNING:root:No events to generate Histogram\n",
      "WARNING:root:No events to generate Histogram\n",
      "WARNING:root:No events to generate Histogram\n",
      "WARNING:root:No events to generate Histogram\n",
      "WARNING:root:No events to generate Histogram\n",
      "WARNING:root:No events to generate Histogram\n",
      "WARNING:root:No events to generate Histogram\n",
      "WARNING:root:No events to generate Histogram\n",
      "WARNING:root:No events to generate Histogram\n",
      "WARNING:root:No events to generate Histogram\n",
      "WARNING:root:No events to generate Histogram\n",
      "WARNING:root:No events to generate Histogram\n",
      "WARNING:root:No events to generate Histogram\n",
      "WARNING:root:No events to generate Histogram\n",
      "WARNING:root:No events to generate Histogram\n",
      "WARNING:root:No events to generate Histogram\n",
      "WARNING:root:No events to generate Histogram\n",
      "WARNING:root:No events to generate Histogram\n",
      "WARNING:root:No events to generate Histogram\n",
      "WARNING:root:No events to generate Histogram\n",
      "WARNING:root:No events to generate Histogram\n",
      "WARNING:root:No events to generate Histogram\n",
      "WARNING:root:No events to generate Histogram\n",
      "WARNING:root:No events to generate Histogram\n",
      "WARNING:root:No events to generate Histogram\n",
      "WARNING:root:No events to generate Histogram\n",
      "WARNING:root:No events to generate Histogram\n",
      "WARNING:root:No events to generate Histogram\n",
      "WARNING:root:No events to generate Histogram\n",
      "WARNING:root:No events to generate Histogram\n",
      "WARNING:root:No events to generate Histogram\n",
      "WARNING:root:No events to generate Histogram\n",
      "WARNING:root:No events to generate Histogram\n",
      "WARNING:root:No events to generate Histogram\n",
      "WARNING:root:No events to generate Histogram\n",
      "WARNING:root:No events to generate Histogram\n",
      "WARNING:root:No events to generate Histogram\n",
      "WARNING:root:No events to generate Histogram\n",
      "WARNING:root:No events to generate Histogram\n",
      "WARNING:root:No events to generate Histogram\n",
      "WARNING:root:No events to generate Histogram\n",
      "WARNING:root:No events to generate Histogram\n",
      "WARNING:root:No events to generate Histogram\n",
      "WARNING:root:No events to generate Histogram\n",
      "WARNING:root:No events to generate Histogram\n",
      "WARNING:root:No events to generate Histogram\n",
      "WARNING:root:No events to generate Histogram\n",
      "WARNING:root:No events to generate Histogram\n",
      "WARNING:root:No events to generate Histogram\n",
      "WARNING:root:No events to generate Histogram\n",
      "WARNING:root:No events to generate Histogram\n",
      "WARNING:root:No events to generate Histogram\n",
      "WARNING:root:No events to generate Histogram\n",
      "WARNING:root:No events to generate Histogram\n",
      "WARNING:root:No events to generate Histogram\n",
      "WARNING:root:No events to generate Histogram\n",
      "WARNING:root:No events to generate Histogram\n",
      "WARNING:root:No events to generate Histogram\n",
      "WARNING:root:No events to generate Histogram\n",
      "WARNING:root:No events to generate Histogram\n",
      "WARNING:root:No events to generate Histogram\n",
      "WARNING:root:No events to generate Histogram\n",
      "WARNING:root:No events to generate Histogram\n",
      "WARNING:root:No events to generate Histogram\n",
      "WARNING:root:No events to generate Histogram\n",
      "WARNING:root:No events to generate Histogram\n",
      "WARNING:root:No events to generate Histogram\n",
      "WARNING:root:No events to generate Histogram\n",
      "WARNING:root:No events to generate Histogram\n",
      "WARNING:root:No events to generate Histogram\n",
      "WARNING:root:No events to generate Histogram\n",
      "WARNING:root:No events to generate Histogram\n",
      "WARNING:root:No events to generate Histogram\n",
      "WARNING:root:No events to generate Histogram\n",
      "WARNING:root:No events to generate Histogram\n",
      "WARNING:root:No events to generate Histogram\n",
      "WARNING:root:No events to generate Histogram\n",
      "WARNING:root:No events to generate Histogram\n",
      "WARNING:root:No events to generate Histogram\n",
      "WARNING:root:No events to generate Histogram\n",
      "WARNING:root:No events to generate Histogram\n",
      "WARNING:root:No events to generate Histogram\n",
      "WARNING:root:No events to generate Histogram\n",
      "WARNING:root:No events to generate Histogram\n",
      "WARNING:root:No events to generate Histogram\n",
      "WARNING:root:No events to generate Histogram\n",
      "WARNING:root:No events to generate Histogram\n",
      "WARNING:root:No events to generate Histogram\n",
      "WARNING:root:No events to generate Histogram\n",
      "WARNING:root:No events to generate Histogram\n",
      "WARNING:root:No events to generate Histogram\n",
      "WARNING:root:No events to generate Histogram\n",
      "WARNING:root:No events to generate Histogram\n",
      "WARNING:root:No events to generate Histogram\n",
      "WARNING:root:No events to generate Histogram\n",
      "WARNING:root:No events to generate Histogram\n",
      "WARNING:root:No events to generate Histogram\n",
      "WARNING:root:No events to generate Histogram\n",
      "WARNING:root:No events to generate Histogram\n",
      "WARNING:root:No events to generate Histogram\n",
      "WARNING:root:No events to generate Histogram\n",
      "WARNING:root:No events to generate Histogram\n",
      "WARNING:root:No events to generate Histogram\n",
      "WARNING:root:No events to generate Histogram\n",
      "WARNING:root:No events to generate Histogram\n",
      "WARNING:root:No events to generate Histogram\n",
      "WARNING:root:No events to generate Histogram\n",
      "WARNING:root:No events to generate Histogram\n",
      "WARNING:root:No events to generate Histogram\n",
      "WARNING:root:No events to generate Histogram\n",
      "WARNING:root:No events to generate Histogram\n",
      "WARNING:root:No events to generate Histogram\n",
      "WARNING:root:No events to generate Histogram\n",
      "WARNING:root:No events to generate Histogram\n",
      "WARNING:root:No events to generate Histogram\n",
      "WARNING:root:No events to generate Histogram\n",
      "WARNING:root:No events to generate Histogram\n"
     ]
    }
   ],
   "source": [
    "interval = Interval(0, 1000)\n",
    "histogram_config = HistogramConfig(start=interval.start, end=interval.end, bin_size=10)\n",
    "\n",
    "# make sure not everything starts at 0\n",
    "event_collection.redistribute(\n",
    "    interval, is_in_timeframe_mode=EventTimeframeMode.CONTAINS_HIT\n",
    ")\n",
    "\n",
    "\n",
    "dataset = MultiHistogramGenerator(\n",
    "    event_collection=event_collection, histogram_config=histogram_config\n",
    ")\n",
    "\n",
    "save_path = \"../data/processed/notebooks\"\n",
    "\n",
    "if os.path.exists(save_path):\n",
    "    shutil.rmtree(save_path)\n",
    "\n",
    "dataset.generate(save_path)"
   ],
   "metadata": {
    "collapsed": false,
    "pycharm": {
     "name": "#%%\n"
    }
   }
  },
  {
   "cell_type": "markdown",
   "source": [
    "## Dataset investigation <a class=\"anchor\" href=\"investigate\"></a>\n",
    "\n",
    "Let's see what we just created. First the Configuration"
   ],
   "metadata": {
    "collapsed": false,
    "pycharm": {
     "name": "#%% md\n"
    }
   }
  },
  {
   "cell_type": "code",
   "execution_count": 23,
   "outputs": [
    {
     "data": {
      "text/plain": "HistogramDatasetConfig(path='../data/processed/test', detector=Detector(modules=['Module [0, 0], Point (x: 0.0, y: 0.0, z: -500.0) [m], 8.861518238737425e-05 [Hz], 0.12755102040816327', 'Module [0, 1], Point (x: 0.0, y: 0.0, z: -447.36842105263156) [m], 6.764606613159678e-05 [Hz], 0.12755102040816327', 'Module [0, 2], Point (x: 0.0, y: 0.0, z: -394.7368421052632) [m], 9.214486243223132e-05 [Hz], 0.12755102040816327', 'Module [0, 3], Point (x: 0.0, y: 0.0, z: -342.10526315789474) [m], 0.00013838750643446082 [Hz], 0.12755102040816327', 'Module [0, 4], Point (x: 0.0, y: 0.0, z: -289.47368421052636) [m], 0.00010194159159632369 [Hz], 0.12755102040816327', 'Module [0, 5], Point (x: 0.0, y: 0.0, z: -236.84210526315792) [m], 0.0001569002364322399 [Hz], 0.12755102040816327', 'Module [0, 6], Point (x: 0.0, y: 0.0, z: -184.21052631578948) [m], 8.85974593183028e-05 [Hz], 0.12755102040816327', 'Module [0, 7], Point (x: 0.0, y: 0.0, z: -131.5789473684211) [m], 0.0006373218102404027 [Hz], 0.12755102040816327', 'Module [0, 8], Point (x: 0.0, y: 0.0, z: -78.94736842105266) [m], 0.00025116996839437286 [Hz], 0.12755102040816327', 'Module [0, 9], Point (x: 0.0, y: 0.0, z: -26.31578947368422) [m], 5.9596406823978676e-05 [Hz], 0.12755102040816327', 'Module [0, 10], Point (x: 0.0, y: 0.0, z: 26.315789473684163) [m], 0.00011811335131728329 [Hz], 0.12755102040816327', 'Module [0, 11], Point (x: 0.0, y: 0.0, z: 78.9473684210526) [m], 0.0001984335343844179 [Hz], 0.12755102040816327', 'Module [0, 12], Point (x: 0.0, y: 0.0, z: 131.57894736842104) [m], 6.137561541477436e-05 [Hz], 0.12755102040816327', 'Module [0, 13], Point (x: 0.0, y: 0.0, z: 184.21052631578948) [m], 0.0006971752018665463 [Hz], 0.12755102040816327', 'Module [0, 14], Point (x: 0.0, y: 0.0, z: 236.8421052631578) [m], 0.00013369501351589262 [Hz], 0.12755102040816327', 'Module [0, 15], Point (x: 0.0, y: 0.0, z: 289.47368421052624) [m], 0.00028936749176541984 [Hz], 0.12755102040816327', 'Module [0, 16], Point (x: 0.0, y: 0.0, z: 342.1052631578947) [m], 0.0002928727818493967 [Hz], 0.12755102040816327', 'Module [0, 17], Point (x: 0.0, y: 0.0, z: 394.7368421052631) [m], 0.00011172164078654493 [Hz], 0.12755102040816327', 'Module [0, 18], Point (x: 0.0, y: 0.0, z: 447.36842105263156) [m], 0.0001260851665138342 [Hz], 0.12755102040816327', 'Module [0, 19], Point (x: 0.0, y: 0.0, z: 500.0) [m], 0.00018043051385216503 [Hz], 0.12755102040816327']), histogram_config=None; Bin Size: 10)"
     },
     "execution_count": 23,
     "metadata": {},
     "output_type": "execute_result"
    }
   ],
   "source": [
    "with open(os.path.join(save_path, \"config.json\"), \"rb\") as config_file:\n",
    "    dictionary = json.load(config_file)\n",
    "\n",
    "HistogramDatasetConfig.from_json(dictionary)"
   ],
   "metadata": {
    "collapsed": false,
    "pycharm": {
     "name": "#%%\n"
    }
   }
  },
  {
   "cell_type": "markdown",
   "source": [
    "Next up, we check the created index file."
   ],
   "metadata": {
    "collapsed": false,
    "pycharm": {
     "name": "#%% md\n"
    }
   }
  },
  {
   "cell_type": "code",
   "execution_count": 27,
   "outputs": [
    {
     "data": {
      "text/plain": "                                              events  \\\n0                                                 []   \n1  [{'default_value': 0.0, 'direction': {'x': -0....   \n2                                                 []   \n3                                                 []   \n4                                                 []   \n\n                                                file  \n0  data/histogram_95103ef2-5cdc-423f-a366-d4a333f...  \n1  data/histogram_650df277-f2c4-41a5-af65-0389f23...  \n2  data/histogram_174f75f8-84a6-4dc5-80b3-748adab...  \n3  data/histogram_019a8d91-b358-49c6-a45d-0bf93fd...  \n4  data/histogram_8f726e4c-37a2-4fc7-b468-e3830aa...  ",
      "text/html": "<div>\n<style scoped>\n    .dataframe tbody tr th:only-of-type {\n        vertical-align: middle;\n    }\n\n    .dataframe tbody tr th {\n        vertical-align: top;\n    }\n\n    .dataframe thead th {\n        text-align: right;\n    }\n</style>\n<table border=\"1\" class=\"dataframe\">\n  <thead>\n    <tr style=\"text-align: right;\">\n      <th></th>\n      <th>events</th>\n      <th>file</th>\n    </tr>\n  </thead>\n  <tbody>\n    <tr>\n      <th>0</th>\n      <td>[]</td>\n      <td>data/histogram_95103ef2-5cdc-423f-a366-d4a333f...</td>\n    </tr>\n    <tr>\n      <th>1</th>\n      <td>[{'default_value': 0.0, 'direction': {'x': -0....</td>\n      <td>data/histogram_650df277-f2c4-41a5-af65-0389f23...</td>\n    </tr>\n    <tr>\n      <th>2</th>\n      <td>[]</td>\n      <td>data/histogram_174f75f8-84a6-4dc5-80b3-748adab...</td>\n    </tr>\n    <tr>\n      <th>3</th>\n      <td>[]</td>\n      <td>data/histogram_019a8d91-b358-49c6-a45d-0bf93fd...</td>\n    </tr>\n    <tr>\n      <th>4</th>\n      <td>[]</td>\n      <td>data/histogram_8f726e4c-37a2-4fc7-b468-e3830aa...</td>\n    </tr>\n  </tbody>\n</table>\n</div>"
     },
     "execution_count": 27,
     "metadata": {},
     "output_type": "execute_result"
    }
   ],
   "source": [
    "index_data = pd.read_feather(os.path.join(save_path, \"index.h5\"))\n",
    "\n",
    "index_data.head()"
   ],
   "metadata": {
    "collapsed": false,
    "pycharm": {
     "name": "#%%\n"
    }
   }
  },
  {
   "cell_type": "markdown",
   "source": [
    "Last but not least, let's check one histogram:"
   ],
   "metadata": {
    "collapsed": false,
    "pycharm": {
     "name": "#%% md\n"
    }
   }
  },
  {
   "cell_type": "code",
   "execution_count": 37,
   "outputs": [
    {
     "name": "stdout",
     "output_type": "stream",
     "text": [
      "[[0. 0. 0. ... 0. 0. 0.]\n",
      " [0. 0. 0. ... 0. 0. 0.]\n",
      " [0. 0. 0. ... 0. 0. 0.]\n",
      " ...\n",
      " [0. 0. 0. ... 0. 0. 0.]\n",
      " [0. 0. 0. ... 0. 0. 0.]\n",
      " [0. 0. 0. ... 0. 0. 0.]]\n",
      "hits:  3.0\n"
     ]
    }
   ],
   "source": [
    "file_path = os.path.join(save_path, index_data.iloc[1][\"file\"])\n",
    "\n",
    "histogram = np.load(file_path)\n",
    "print(histogram)\n",
    "print(\"hits: \", np.sum(histogram))"
   ],
   "metadata": {
    "collapsed": false,
    "pycharm": {
     "name": "#%%\n"
    }
   }
  },
  {
   "cell_type": "markdown",
   "source": [
    "What a fantastic success. We have now a way to create a dataset and save it to file"
   ],
   "metadata": {
    "collapsed": false,
    "pycharm": {
     "name": "#%% md\n"
    }
   }
  }
 ],
 "metadata": {
  "kernelspec": {
   "display_name": "Python 3",
   "language": "python",
   "name": "python3"
  },
  "language_info": {
   "codemirror_mode": {
    "name": "ipython",
    "version": 2
   },
   "file_extension": ".py",
   "mimetype": "text/x-python",
   "name": "python",
   "nbconvert_exporter": "python",
   "pygments_lexer": "ipython2",
   "version": "2.7.6"
  }
 },
 "nbformat": 4,
 "nbformat_minor": 0
}